{
 "cells": [
  {
   "cell_type": "markdown",
   "metadata": {},
   "source": [
    "# Question 4"
   ]
  },
  {
   "cell_type": "markdown",
   "metadata": {},
   "source": [
    "### Sample Statistics"
   ]
  },
  {
   "cell_type": "code",
   "execution_count": 1,
   "metadata": {},
   "outputs": [],
   "source": [
    "import numpy as np\n",
    "import pandas as pd\n",
    "import matplotlib.pyplot as plt\n",
    "import mt_prng as mt\n",
    "import collections\n",
    "\n",
    "%matplotlib inline\n",
    "s = mt.mt_seed(5489)"
   ]
  },
  {
   "cell_type": "code",
   "execution_count": 10,
   "metadata": {},
   "outputs": [
    {
     "data": {
      "text/html": [
       "<div>\n",
       "<style scoped>\n",
       "    .dataframe tbody tr th:only-of-type {\n",
       "        vertical-align: middle;\n",
       "    }\n",
       "\n",
       "    .dataframe tbody tr th {\n",
       "        vertical-align: top;\n",
       "    }\n",
       "\n",
       "    .dataframe thead th {\n",
       "        text-align: right;\n",
       "    }\n",
       "</style>\n",
       "<table border=\"1\" class=\"dataframe\">\n",
       "  <thead>\n",
       "    <tr style=\"text-align: right;\">\n",
       "      <th></th>\n",
       "      <th>cust_id</th>\n",
       "      <th>sales_total</th>\n",
       "      <th>num_of_orders</th>\n",
       "      <th>gender</th>\n",
       "    </tr>\n",
       "  </thead>\n",
       "  <tbody>\n",
       "    <tr>\n",
       "      <th>0</th>\n",
       "      <td>100001</td>\n",
       "      <td>800.64</td>\n",
       "      <td>3</td>\n",
       "      <td>F</td>\n",
       "    </tr>\n",
       "    <tr>\n",
       "      <th>1</th>\n",
       "      <td>100002</td>\n",
       "      <td>217.53</td>\n",
       "      <td>3</td>\n",
       "      <td>F</td>\n",
       "    </tr>\n",
       "    <tr>\n",
       "      <th>2</th>\n",
       "      <td>100003</td>\n",
       "      <td>74.58</td>\n",
       "      <td>2</td>\n",
       "      <td>M</td>\n",
       "    </tr>\n",
       "    <tr>\n",
       "      <th>3</th>\n",
       "      <td>100004</td>\n",
       "      <td>498.60</td>\n",
       "      <td>3</td>\n",
       "      <td>M</td>\n",
       "    </tr>\n",
       "    <tr>\n",
       "      <th>4</th>\n",
       "      <td>100005</td>\n",
       "      <td>723.11</td>\n",
       "      <td>4</td>\n",
       "      <td>F</td>\n",
       "    </tr>\n",
       "  </tbody>\n",
       "</table>\n",
       "</div>"
      ],
      "text/plain": [
       "   cust_id  sales_total  num_of_orders gender\n",
       "0   100001       800.64              3      F\n",
       "1   100002       217.53              3      F\n",
       "2   100003        74.58              2      M\n",
       "3   100004       498.60              3      M\n",
       "4   100005       723.11              4      F"
      ]
     },
     "execution_count": 10,
     "metadata": {},
     "output_type": "execute_result"
    }
   ],
   "source": [
    "df = pd.read_csv('yearly_sales.csv')   #Reading the csv file\n",
    "df.head()                             #Displaying the first 5 rows"
   ]
  },
  {
   "cell_type": "code",
   "execution_count": 3,
   "metadata": {},
   "outputs": [
    {
     "data": {
      "text/html": [
       "<div>\n",
       "<style scoped>\n",
       "    .dataframe tbody tr th:only-of-type {\n",
       "        vertical-align: middle;\n",
       "    }\n",
       "\n",
       "    .dataframe tbody tr th {\n",
       "        vertical-align: top;\n",
       "    }\n",
       "\n",
       "    .dataframe thead th {\n",
       "        text-align: right;\n",
       "    }\n",
       "</style>\n",
       "<table border=\"1\" class=\"dataframe\">\n",
       "  <thead>\n",
       "    <tr style=\"text-align: right;\">\n",
       "      <th></th>\n",
       "      <th>cust_id</th>\n",
       "      <th>sales_total</th>\n",
       "      <th>num_of_orders</th>\n",
       "    </tr>\n",
       "  </thead>\n",
       "  <tbody>\n",
       "    <tr>\n",
       "      <th>count</th>\n",
       "      <td>10000.00000</td>\n",
       "      <td>10000.000000</td>\n",
       "      <td>10000.000000</td>\n",
       "    </tr>\n",
       "    <tr>\n",
       "      <th>mean</th>\n",
       "      <td>105000.50000</td>\n",
       "      <td>249.455676</td>\n",
       "      <td>2.428000</td>\n",
       "    </tr>\n",
       "    <tr>\n",
       "      <th>std</th>\n",
       "      <td>2886.89568</td>\n",
       "      <td>319.050782</td>\n",
       "      <td>1.441119</td>\n",
       "    </tr>\n",
       "    <tr>\n",
       "      <th>min</th>\n",
       "      <td>100001.00000</td>\n",
       "      <td>30.020000</td>\n",
       "      <td>1.000000</td>\n",
       "    </tr>\n",
       "    <tr>\n",
       "      <th>25%</th>\n",
       "      <td>102500.75000</td>\n",
       "      <td>80.292500</td>\n",
       "      <td>2.000000</td>\n",
       "    </tr>\n",
       "    <tr>\n",
       "      <th>50%</th>\n",
       "      <td>105000.50000</td>\n",
       "      <td>151.650000</td>\n",
       "      <td>2.000000</td>\n",
       "    </tr>\n",
       "    <tr>\n",
       "      <th>75%</th>\n",
       "      <td>107500.25000</td>\n",
       "      <td>295.502500</td>\n",
       "      <td>3.000000</td>\n",
       "    </tr>\n",
       "    <tr>\n",
       "      <th>max</th>\n",
       "      <td>110000.00000</td>\n",
       "      <td>7606.090000</td>\n",
       "      <td>22.000000</td>\n",
       "    </tr>\n",
       "  </tbody>\n",
       "</table>\n",
       "</div>"
      ],
      "text/plain": [
       "            cust_id   sales_total  num_of_orders\n",
       "count   10000.00000  10000.000000   10000.000000\n",
       "mean   105000.50000    249.455676       2.428000\n",
       "std      2886.89568    319.050782       1.441119\n",
       "min    100001.00000     30.020000       1.000000\n",
       "25%    102500.75000     80.292500       2.000000\n",
       "50%    105000.50000    151.650000       2.000000\n",
       "75%    107500.25000    295.502500       3.000000\n",
       "max    110000.00000   7606.090000      22.000000"
      ]
     },
     "execution_count": 3,
     "metadata": {},
     "output_type": "execute_result"
    }
   ],
   "source": [
    "df.describe()          #Describing the data"
   ]
  },
  {
   "cell_type": "markdown",
   "metadata": {},
   "source": [
    "#### Mean of the population  : 249.455676\n",
    "#### Variance of the population : 101,793.401494\n",
    "#### Standard deviation of the population : 319.050782"
   ]
  },
  {
   "cell_type": "code",
   "execution_count": 21,
   "metadata": {},
   "outputs": [],
   "source": [
    "'''Calculating Sample Mean and Sample Variance without replacement of samples of size 1000'''\n",
    "'''Note -- It should be done essentially with replacement but I could not work out the code for it. Filter removes duplicates\n",
    "So I had to it without replacement. Since we are trying to prove a theoretical concept and choosing 1 customer does not \n",
    "affect the probability of choosing 2nd customer, it should be done with replacement'''\n",
    "\n",
    "x_bar_list =[]\n",
    "sample_var_list=[]\n",
    "for i in range(700):       #Generating samples of size 1000, 700 times\n",
    "    sam_var_temp=0\n",
    "    sample_id = mt.mt_choice(df['cust_id'], size=1000, replace = False)   #Choosing samples without replacement\n",
    "    filt = df['cust_id'].isin(sample_id)          #Filter to show only chosen samples\n",
    "    x_i = df.loc[filt, 'sales_total']\n",
    "    x_bar = x_i.sum()/1000                        #Calculating Sample Mean\n",
    "    x_bar_list.append(x_bar)                      #Appending sample mean for first sample in the list---x_bar_list\n",
    "    for x in x_i:                                 #Calculating Sample variance\n",
    "        sam_var_temp+= (x-x_bar)**2\n",
    "    sam_var = (sam_var_temp/(len(x_i)-1))\n",
    "    sample_var_list.append(sam_var)               #Appending sample variance for first sample in the list---sample_var_list"
   ]
  },
  {
   "cell_type": "code",
   "execution_count": 22,
   "metadata": {},
   "outputs": [
    {
     "name": "stdout",
     "output_type": "stream",
     "text": [
      "Five Sample Means : [256.31922539358, 245.08212331281, 252.22878213761996, 238.49012217302, 246.00750677558]\n",
      "Five Sample Variance [101576.39851057834, 81664.52117228901, 102161.13595643529, 125524.43822361148, 107763.70325088469]\n"
     ]
    }
   ],
   "source": [
    "print('Five Sample Means :', x_bar_list[0:5])                 #Printing first five sample mean and variances out of 500 samples\n",
    "print('Five Sample Variance',sample_var_list[0:5])"
   ]
  },
  {
   "cell_type": "markdown",
   "metadata": {},
   "source": [
    " We see that sample mean and sample variance are very close to population mean and variance.  This can be inferred from Law of Large Numbers. For a sufficient sample size, the sample mean and variance can give us a good depiction of population mean and variance. So, for an unfeasible dataset whose population mean and variance can't be calculated or rather data can't be gathered, sample mean and variance gives us a good estimate of that population. Given, a proper sampling technique, a very good approximation can be obtained. There are a lot of sampling techniques depending on what kind of population it is such as stratified random sampling. In this kind of sampling, samples are generated according to weights to depict a certain subset of population more.\n",
    " \n",
    " \n",
    " \n",
    " "
   ]
  },
  {
   "cell_type": "code",
   "execution_count": 29,
   "metadata": {},
   "outputs": [
    {
     "data": {
      "image/png": "[encoded data removed]",
      "text/plain": [
       "<Figure size 432x288 with 1 Axes>"
      ]
     },
     "metadata": {
      "needs_background": "light"
     },
     "output_type": "display_data"
    },
    {
     "data": {
      "image/png": "[encoded data removed]",
      "text/plain": [
       "<Figure size 432x288 with 1 Axes>"
      ]
     },
     "metadata": {
      "needs_background": "light"
     },
     "output_type": "display_data"
    }
   ],
   "source": [
    "'''Plotting histogram of sample mean and variance for 700 generated samples'''\n",
    "\n",
    "plt.hist(x_bar_list,bins=30, label = 'Sample Mean');\n",
    "plt.xlabel('Mean')\n",
    "plt.ylabel('Number of occurences')\n",
    "plt.legend()\n",
    "plt.show()\n",
    "plt.hist(sample_var_list,bins=30, label = 'Sample Variance');\n",
    "plt.xlabel('Variance')\n",
    "plt.ylabel('Number of occurences')\n",
    "plt.legend()\n",
    "plt.show()\n"
   ]
  },
  {
   "cell_type": "markdown",
   "metadata": {},
   "source": [
    "#### Expectation of sample variance"
   ]
  },
  {
   "cell_type": "code",
   "execution_count": 24,
   "metadata": {},
   "outputs": [
    {
     "name": "stdout",
     "output_type": "stream",
     "text": [
      "101290.07993566996\n"
     ]
    }
   ],
   "source": [
    "sum_1 = 0\n",
    "for sample_var in sample_var_list:\n",
    "    sum_1+=sample_var\n",
    "exp = sum_1/len(sample_var_list)\n",
    "print(exp)"
   ]
  },
  {
   "cell_type": "markdown",
   "metadata": {},
   "source": [
    "The expectation of sample variance is almost equal to population variance as expected."
   ]
  },
  {
   "cell_type": "code",
   "execution_count": 27,
   "metadata": {},
   "outputs": [],
   "source": [
    "'''Here we show that as sample size increases, sample mean and variance approaches population mean and variance'''\n",
    "\n",
    "x_bar_list_2=[]\n",
    "sample_var_list_2 = []\n",
    "for i_2 in range(1000):\n",
    "    sam_var_temp_2=0\n",
    "    sample_id_2 = mt.mt_choice(df['cust_id'], size=i_2+2, replace = False)   \n",
    "    filt_2 = df['cust_id'].isin(sample_id_2)\n",
    "    x_i_2 = df.loc[filt_2, 'sales_total']\n",
    "    x_bar_2 = x_i_2.sum()/(i_2+2)\n",
    "    x_bar_list_2.append(x_bar_2)\n",
    "    for x_2 in x_i_2:        \n",
    "        sam_var_temp_2+= (x_2-x_bar_2)**2\n",
    "    sam_var_2 = (sam_var_temp_2/(len(x_i_2)-1))\n",
    "    sample_var_list_2.append(sam_var_2)"
   ]
  },
  {
   "cell_type": "code",
   "execution_count": 31,
   "metadata": {
    "scrolled": true
   },
   "outputs": [
    {
     "data": {
      "image/png": "[encoded data removed]",
      "text/plain": [
       "<Figure size 432x288 with 1 Axes>"
      ]
     },
     "metadata": {
      "needs_background": "light"
     },
     "output_type": "display_data"
    },
    {
     "data": {
      "image/png": "[encoded data removed]",
      "text/plain": [
       "<Figure size 432x288 with 1 Axes>"
      ]
     },
     "metadata": {
      "needs_background": "light"
     },
     "output_type": "display_data"
    }
   ],
   "source": [
    "plt.plot([r for r in range(len(x_bar_list_2))], x_bar_list_2);\n",
    "plt.xlabel('sample size')\n",
    "plt.ylabel('sample mean')\n",
    "plt.show()\n",
    "plt.plot([s for s in range(len(sample_var_list_2))], sample_var_list_2);\n",
    "plt.xlabel('sample size')\n",
    "plt.ylabel('sample variance in units of 10^6')\n",
    "plt.show()"
   ]
  }
 ],
 "metadata": {
  "kernelspec": {
   "display_name": "Python 3",
   "language": "python",
   "name": "python3"
  },
  "language_info": {
   "codemirror_mode": {
    "name": "ipython",
    "version": 3
   },
   "file_extension": ".py",
   "mimetype": "text/x-python",
   "name": "python",
   "nbconvert_exporter": "python",
   "pygments_lexer": "ipython3",
   "version": "3.8.5"
  }
 },
 "nbformat": 4,
 "nbformat_minor": 4
}
