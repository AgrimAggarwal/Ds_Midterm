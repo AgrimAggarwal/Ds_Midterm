{
 "cells": [
  {
   "cell_type": "markdown",
   "metadata": {},
   "source": [
    "# Question 3"
   ]
  },
  {
   "cell_type": "markdown",
   "metadata": {},
   "source": [
    "### Monty Hall Problem\n",
    "It is a famous probabilistic problem which defies our intuition. The statement of the problem is that we are in a game show where Monty(host) presents us similar looking doors. Behind one of these doors is a prize (historically, a car) and goats in other. We are asked to pick a door and then Monty knowing the door behind which the car is, opens a door other than our chosen door and the correct door. He now asks if we would like to switch our initial choice. Without much thought, it might seem like it wouldnt make a difference and the probability of us winning still remaind the same but careful calculations (and simulation, as we have done below) shows that the probability of us winning if we switch from our initial choice is higher than if we dont switch."
   ]
  },
  {
   "cell_type": "markdown",
   "metadata": {},
   "source": [
    "#### For the case with 3 doors\n",
    "![Monty Hall Decision Tree](img/decision_tree.png \"Decision Tree\") Source: https://brilliant.org/wiki/monty-hall-problem/\n",
    "\n",
    "From the decision tree, we can see that in the case when we switch the probability of us winning is 2/3 as opposed to 1/3 when we dont switch."
   ]
  },
  {
   "cell_type": "code",
   "execution_count": 24,
   "metadata": {},
   "outputs": [],
   "source": [
    "import mt_prng as mt\n",
    "import numpy as np\n",
    "import matplotlib.pyplot as plt\n",
    "\n",
    "%matplotlib inline\n",
    "\n",
    "r = mt.mt_seed(5489)"
   ]
  },
  {
   "cell_type": "code",
   "execution_count": 25,
   "metadata": {},
   "outputs": [],
   "source": [
    "'''Function for the monty_hall problem for n doors'''\n",
    "\n",
    "def monty_hall(switch, doors):\n",
    "    correct = mt.randint(1,doors+1) #The door behind which the correct prize is registered randomly\n",
    "    chosen = mt.randint(1,doors+1)  #Our choice is registered randomly\n",
    "    \n",
    "    if chosen != correct :         #If the door we chose is not the correct door\n",
    "        av_doors = np.arange(1,doors+1) #All the available doors\n",
    "        if chosen or correct in av_doors : #Condition to let Monty(host) open a door other than the correct/chosen\n",
    "            index = [np.where(av_doors==chosen), np.where(av_doors==correct)] \n",
    "            monty_doors = np.delete(av_doors,index) #deleting the correct/chosen doors from list of available doors\n",
    "            monty_opens = mt.mt_choice(monty_doors) #randomly choosing a door to open. Note : it cant be chosen/correct\n",
    "    elif chosen == correct : #If the door we chose is correct\n",
    "        av_doors = np.arange(1,doors+1) #All the available doors\n",
    "        if chosen in av_doors : #Note : In this case, only one door has to be deleted in the list of available doors\n",
    "            index = [np.where(av_doors==chosen)]\n",
    "            monty_doors = np.delete(av_doors,index)\n",
    "            monty_opens = mt.mt_choice(monty_doors) #randomly choosing a door to open. Note : it can't be chosen(correct)\n",
    "\n",
    "    \n",
    "    if switch : #Condition if we switch from out initial choice (chosen)\n",
    "        final_choices = np.delete(av_doors,[np.where(av_doors ==monty_opens),np.where(av_doors == chosen)]) \n",
    "        #Our final choice can't be the door which monty opens and our initial choice since we switch. So we delete those choices\n",
    "        #from the list of available doors\n",
    "        final_choice = mt.mt_choice(final_choices) #randomly choosing our final choice\n",
    "#         \n",
    "    else :\n",
    "        final_choice = chosen #Condition if we dont switch. Our final choice remains the inital choice (chosen)\n",
    "    \n",
    "    win = final_choice ==correct #Output true if our final choice is the correct choice otherwise false\n",
    "    \n",
    "    return win\n",
    "\n",
    "\n",
    "'''Monte Carlo simulation for monty_hall problem where n is the number of iterations'''\n",
    "def monty_hall_sim(n,doors):\n",
    "    win_w_switch=0 #no. of wins when we switch\n",
    "    win_wo_switch=0 #no. of wins when we dont switch\n",
    "    for i in range(n):\n",
    "        win = monty_hall(True,doors) #True here refers to when we switch\n",
    "        if win==True :\n",
    "            win_w_switch+=1\n",
    "        win = monty_hall(False,doors) #False here refers to when we dont switch\n",
    "        if win ==True:\n",
    "            win_wo_switch+=1\n",
    "    print(\"Probability of games won with switching :\" , win_w_switch/n)\n",
    "    print(\"Probability of games won without switching :\", win_wo_switch/n)\n",
    "                \n",
    "            "
   ]
  },
  {
   "cell_type": "code",
   "execution_count": 26,
   "metadata": {},
   "outputs": [
    {
     "name": "stdout",
     "output_type": "stream",
     "text": [
      "Probability of games won with switching : 0.6639\n",
      "Probability of games won without switching : 0.3346\n"
     ]
    }
   ],
   "source": [
    "monty_hall_sim(10000,3) #no. of iterations = 10,000 and no. of doors = 3"
   ]
  },
  {
   "cell_type": "markdown",
   "metadata": {},
   "source": [
    "### We see that the probability of winning when we switch is higher as our theoretical calculations suggest"
   ]
  },
  {
   "cell_type": "code",
   "execution_count": 27,
   "metadata": {},
   "outputs": [
    {
     "data": {
      "text/plain": [
       "[<matplotlib.lines.Line2D at 0x11adea42910>]"
      ]
     },
     "execution_count": 27,
     "metadata": {},
     "output_type": "execute_result"
    },
    {
     "data": {
      "image/png": "[encoded data removed]",
      "text/plain": [
       "<Figure size 432x288 with 1 Axes>"
      ]
     },
     "metadata": {
      "needs_background": "light"
     },
     "output_type": "display_data"
    }
   ],
   "source": [
    "win_switch = 0\n",
    "win_2=[]\n",
    "index=1\n",
    "for i in range(1000):\n",
    "    win_3 = monty_hall(True,3)\n",
    "    if win_3==True:\n",
    "        win_switch+=1\n",
    "    else : \n",
    "        win_3+=0\n",
    "    probability = win_switch/index\n",
    "    index+=1\n",
    "    win_2.append(probability)\n",
    "plt.xlabel('No. of games')\n",
    "plt.ylabel('Probability of success when switch')\n",
    "plt.plot([a for a in range(1,len(win_2)+1)],win_2)\n",
    "    "
   ]
  },
  {
   "cell_type": "markdown",
   "metadata": {},
   "source": [
    "### In this plot we can see that as the no. of games increases, the probability of winning when we switch settles down at 2/3"
   ]
  }
 ],
 "metadata": {
  "kernelspec": {
   "display_name": "Python 3",
   "language": "python",
   "name": "python3"
  },
  "language_info": {
   "codemirror_mode": {
    "name": "ipython",
    "version": 3
   },
   "file_extension": ".py",
   "mimetype": "text/x-python",
   "name": "python",
   "nbconvert_exporter": "python",
   "pygments_lexer": "ipython3",
   "version": "3.8.5"
  }
 },
 "nbformat": 4,
 "nbformat_minor": 4
}
